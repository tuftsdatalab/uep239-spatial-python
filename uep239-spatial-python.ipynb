{
 "cells": [
  {
   "cell_type": "markdown",
   "id": "4d5266c4-0da0-43bd-8e8f-01dd39a0488e",
   "metadata": {},
   "source": [
    "# UEP-0239: Introduction to Geospatial Python\n",
    "---\n",
    "\n",
    "## Working with GeoPandas"
   ]
  },
  {
   "cell_type": "code",
   "execution_count": null,
   "id": "45c85a64-fb05-43fd-835a-dea12d1b5bde",
   "metadata": {},
   "outputs": [],
   "source": [
    "import pandas as pd\n",
    "import geopandas as gpd"
   ]
  },
  {
   "cell_type": "code",
   "execution_count": null,
   "id": "1cc08761-a252-49dc-9be2-0290156bf4fc",
   "metadata": {},
   "outputs": [],
   "source": [
    "stops = pd.read_csv('data/mbta-rapid-transit-stations.csv')"
   ]
  },
  {
   "cell_type": "code",
   "execution_count": null,
   "id": "f47e6c9d-5ece-4bc7-a253-0ef41f5b3844",
   "metadata": {},
   "outputs": [],
   "source": [
    "stops"
   ]
  },
  {
   "cell_type": "code",
   "execution_count": null,
   "id": "28fd812d-d6a9-403b-84f7-4bc031424b30",
   "metadata": {},
   "outputs": [],
   "source": [
    "stops = gpd.GeoDataFrame(stops,\n",
    "                         geometry=gpd.points_from_xy(stops.stop_lon,\n",
    "                                                     stops.stop_lat))"
   ]
  },
  {
   "cell_type": "code",
   "execution_count": null,
   "id": "64d2871d-7d52-4683-9144-97dd29be86c8",
   "metadata": {},
   "outputs": [],
   "source": [
    "stops.head()"
   ]
  },
  {
   "cell_type": "code",
   "execution_count": null,
   "id": "3e5c4edb-49ca-45aa-bbc9-44d0611d35b2",
   "metadata": {},
   "outputs": [],
   "source": [
    "type(stops)"
   ]
  },
  {
   "cell_type": "code",
   "execution_count": null,
   "id": "b64bbb2d-7cff-4a1f-9e3d-10769c153fd2",
   "metadata": {},
   "outputs": [],
   "source": [
    "stops.crs"
   ]
  },
  {
   "cell_type": "code",
   "execution_count": null,
   "id": "736ff1b0-7661-434b-ab80-ba28a97ee64d",
   "metadata": {},
   "outputs": [],
   "source": [
    "stops.set_crs(epsg=4326, inplace=True)"
   ]
  },
  {
   "cell_type": "code",
   "execution_count": null,
   "id": "b73c518b-ace8-49f1-9f64-5dfdf555d95d",
   "metadata": {},
   "outputs": [],
   "source": [
    "stops.crs"
   ]
  },
  {
   "cell_type": "code",
   "execution_count": null,
   "id": "38db0691-28a8-46e7-ad33-493423675ded",
   "metadata": {},
   "outputs": [],
   "source": [
    "stops.to_crs(epsg=26986, inplace=True)"
   ]
  },
  {
   "cell_type": "code",
   "execution_count": null,
   "id": "5c6ae7f4-0ca1-4d50-adb6-5d46a5c84f48",
   "metadata": {},
   "outputs": [],
   "source": [
    "stops.head()"
   ]
  },
  {
   "cell_type": "markdown",
   "id": "499f0265-d817-4483-b703-d8ac7bd58ea2",
   "metadata": {},
   "source": [
    "---\n",
    "\n",
    "## Creating Static Maps"
   ]
  },
  {
   "cell_type": "code",
   "execution_count": null,
   "id": "1fc86211-4c1e-4146-8ea8-d60369913c06",
   "metadata": {},
   "outputs": [],
   "source": [
    "import matplotlib.pyplot as plt\n",
    "import contextily as cx\n",
    "import seaborn as sns"
   ]
  },
  {
   "cell_type": "code",
   "execution_count": null,
   "id": "6110a27c-0c10-4397-ad81-546f7f5a6007",
   "metadata": {},
   "outputs": [],
   "source": [
    "stops.plot()\n",
    "plt.show()"
   ]
  },
  {
   "cell_type": "code",
   "execution_count": null,
   "id": "d7326c62-622b-45dc-a8c3-bd99c4390cfb",
   "metadata": {},
   "outputs": [],
   "source": [
    "ax = stops.plot(figsize=(10, 10), color='black', markersize=50)\n",
    "cx.add_basemap(ax, crs=stops.crs)\n",
    "plt.show()"
   ]
  },
  {
   "cell_type": "code",
   "execution_count": null,
   "id": "2e30a80c-6e1e-4307-a45c-0150b2ea5a64",
   "metadata": {},
   "outputs": [],
   "source": [
    "fig, ax = plt.subplots(figsize=(10, 10))\n",
    "sns.kdeplot(x=stops.geometry.x,\n",
    "            y=stops.geometry.y,\n",
    "            fill=True,\n",
    "            alpha=0.75,\n",
    "            cmap='magma',\n",
    "            ax=ax)\n",
    "cx.add_basemap(ax, crs=stops.crs)\n",
    "plt.show()"
   ]
  },
  {
   "cell_type": "code",
   "execution_count": null,
   "id": "7d06e5da-d281-4f6f-8df9-1c616f063066",
   "metadata": {},
   "outputs": [],
   "source": [
    "ax = stops[stops.accessible == 'yes'].plot(figsize=(10, 10),\n",
    "                                           color='blue',\n",
    "                                           label='accessilbe',\n",
    "                                           marker='o',\n",
    "                                           markersize=50)\n",
    "stops[stops.accessible == 'no'].plot(color='red',\n",
    "                                     label='not accessible',\n",
    "                                     marker='x',\n",
    "                                     markersize=100,\n",
    "                                     ax=ax)\n",
    "plt.legend()\n",
    "cx.add_basemap(ax, crs=stops.crs)\n",
    "plt.show()"
   ]
  },
  {
   "cell_type": "markdown",
   "id": "02b0fdea-7960-417b-bcdc-3077c19ca427",
   "metadata": {},
   "source": [
    "---\n",
    "\n",
    "## Creating Interactive Maps"
   ]
  },
  {
   "cell_type": "code",
   "execution_count": null,
   "id": "452c2e3c-8fdc-4769-82fe-8d8a386ddc11",
   "metadata": {},
   "outputs": [],
   "source": [
    "stops.explore(column='accessible',\n",
    "              tooltip='stop_name',\n",
    "              tooltip_kwds=dict(labels=False),\n",
    "              marker_kwds=dict(radius=5, fill=True),\n",
    "              popup=True,\n",
    "              legend=True,\n",
    "              cmap='bwr_r',\n",
    "              tiles='CartoDB positron')"
   ]
  },
  {
   "cell_type": "markdown",
   "id": "f8d56ef1-7baf-4f61-a9ae-0a12ecd7b01c",
   "metadata": {},
   "source": [
    "---\n",
    "\n",
    "## Exploring Shapely Objects"
   ]
  },
  {
   "cell_type": "code",
   "execution_count": null,
   "id": "57b51f36-1189-4302-a843-55f511dc4761",
   "metadata": {},
   "outputs": [],
   "source": [
    "from shapely.geometry import Point\n",
    "from shapely.geometry import LineString\n",
    "from shapely.ops import transform\n",
    "import pyproj\n",
    "import folium"
   ]
  },
  {
   "cell_type": "code",
   "execution_count": null,
   "id": "9dce10e8-f978-4ed1-ac5d-8e939a87027e",
   "metadata": {},
   "outputs": [],
   "source": [
    "stops[stops.stop_name == 'Davis']"
   ]
  },
  {
   "cell_type": "code",
   "execution_count": null,
   "id": "d688de18-d5f2-4644-a541-706cda2c06e5",
   "metadata": {},
   "outputs": [],
   "source": [
    "stops[stops.stop_name == 'Davis'].geometry"
   ]
  },
  {
   "cell_type": "code",
   "execution_count": null,
   "id": "e68cb9d2-7360-4be8-bfa7-d871f2130a11",
   "metadata": {},
   "outputs": [],
   "source": [
    "davis = stops[stops.stop_name == 'Davis'].geometry.values[0]"
   ]
  },
  {
   "cell_type": "code",
   "execution_count": null,
   "id": "666c6aa7-d1e8-4d90-bae8-5441523d9f04",
   "metadata": {},
   "outputs": [],
   "source": [
    "davis"
   ]
  },
  {
   "cell_type": "code",
   "execution_count": null,
   "id": "7b662b4d-d855-4bad-a221-ab4eeb28459e",
   "metadata": {},
   "outputs": [],
   "source": [
    "type(davis)"
   ]
  },
  {
   "cell_type": "code",
   "execution_count": null,
   "id": "06c331ed-9b23-4546-a929-3054e1d01615",
   "metadata": {},
   "outputs": [],
   "source": [
    "plt.scatter(davis.x, davis.y)\n",
    "plt.show()"
   ]
  },
  {
   "cell_type": "code",
   "execution_count": null,
   "id": "4d8f0377-d19f-4a83-a963-068a8547082c",
   "metadata": {},
   "outputs": [],
   "source": [
    "porter = stops[stops.stop_name == 'Porter'].geometry.values[0]\n",
    "harvard = stops[stops.stop_name == 'Harvard'].geometry.values[0]"
   ]
  },
  {
   "cell_type": "code",
   "execution_count": null,
   "id": "2e257a54-4e08-4ab7-af68-f9c551be4b70",
   "metadata": {},
   "outputs": [],
   "source": [
    "ax = stops.plot(figsize=(10, 10), color='black', markersize=25)\n",
    "ax.scatter(davis.x, davis.y, color='blue', marker='*', s=200)\n",
    "ax.scatter(porter.x, porter.y, color='green', marker='X', s=100)\n",
    "ax.scatter(harvard.x, harvard.y, color='red', marker='s', s=50)\n",
    "cx.add_basemap(ax, crs=stops.crs, source=cx.providers.CartoDB.Positron)\n",
    "plt.show()"
   ]
  },
  {
   "cell_type": "code",
   "execution_count": null,
   "id": "6df85dd2-b551-4114-9e4b-308be6234f96",
   "metadata": {},
   "outputs": [],
   "source": [
    "route = LineString([davis, porter, harvard])"
   ]
  },
  {
   "cell_type": "code",
   "execution_count": null,
   "id": "50b2b0be-e751-4ea0-ae99-ecd2b2e1cab1",
   "metadata": {},
   "outputs": [],
   "source": [
    "route"
   ]
  },
  {
   "cell_type": "code",
   "execution_count": null,
   "id": "91d6f7a9-3c8c-494e-a0e0-472b04fca110",
   "metadata": {},
   "outputs": [],
   "source": [
    "type(route)"
   ]
  },
  {
   "cell_type": "code",
   "execution_count": null,
   "id": "f4181544-5612-469c-b775-229fe684e0f7",
   "metadata": {},
   "outputs": [],
   "source": [
    "route.length"
   ]
  },
  {
   "cell_type": "code",
   "execution_count": null,
   "id": "e31e1295-9697-4391-93a2-54bd5859074b",
   "metadata": {},
   "outputs": [],
   "source": [
    "davis.distance(harvard)"
   ]
  },
  {
   "cell_type": "code",
   "execution_count": null,
   "id": "6b86e43b-e4ff-4227-8386-93cd87ee368d",
   "metadata": {},
   "outputs": [],
   "source": [
    "x, y = route.xy\n",
    "plt.plot(x, y)\n",
    "plt.show()"
   ]
  },
  {
   "cell_type": "code",
   "execution_count": null,
   "id": "b3540b61-b13c-42a3-966f-342f19f7bf59",
   "metadata": {},
   "outputs": [],
   "source": [
    "x, y = route.xy\n",
    "ax = stops.plot(figsize=(10, 10),color='black', markersize=50, zorder=2)\n",
    "plt.plot(x, y, color='red', linewidth=3, zorder=1)\n",
    "cx.add_basemap(ax, crs=stops.crs, source=cx.providers.CartoDB.Positron)\n",
    "plt.show()"
   ]
  },
  {
   "cell_type": "code",
   "execution_count": null,
   "id": "e5b6ef21-fe4f-4b14-962f-b541b907df0c",
   "metadata": {},
   "outputs": [],
   "source": [
    "transformer = pyproj.Transformer.from_crs(stops.crs, 'EPSG:4326').transform\n",
    "m = folium.Map(location=transform(transformer, route).centroid.coords[0],\n",
    "               tiles='CartoDB positron',\n",
    "               zoom_start=14)\n",
    "folium.PolyLine(locations=transform(transformer, route).coords,\n",
    "                color='red').add_to(m)\n",
    "folium.Marker(location=transform(transformer, davis).coords[0],\n",
    "              tooltip='Davis').add_to(m)\n",
    "folium.Marker(location=transform(transformer, porter).coords[0],\n",
    "              tooltip='Porter').add_to(m)\n",
    "folium.Marker(location=transform(transformer, harvard).coords[0],\n",
    "              tooltip='Harvard').add_to(m)\n",
    "m"
   ]
  },
  {
   "cell_type": "markdown",
   "id": "077ddbf8-0ca1-4e08-847b-8857acf99e14",
   "metadata": {},
   "source": [
    "---\n",
    "\n",
    "## Geocoding with GeoPy"
   ]
  },
  {
   "cell_type": "code",
   "execution_count": null,
   "id": "27580416-c87a-4a7b-9030-ea83e50ab78a",
   "metadata": {},
   "outputs": [],
   "source": [
    "import random\n",
    "from geopy.geocoders import Nominatim\n",
    "from geopy.extra.rate_limiter import RateLimiter"
   ]
  },
  {
   "cell_type": "code",
   "execution_count": null,
   "id": "4ed4fc74-4513-4d3d-b18c-722542fdbf9b",
   "metadata": {},
   "outputs": [],
   "source": [
    "stops2 = pd.read_csv('data/mbta-rapid-transit-stations.csv')"
   ]
  },
  {
   "cell_type": "code",
   "execution_count": null,
   "id": "72a1975f-4608-4327-8329-4b10bb49ccaa",
   "metadata": {},
   "outputs": [],
   "source": [
    "stops2 = stops2[~stops2.stop_address.str.contains('and|at', na=True)].reset_index(drop=True)"
   ]
  },
  {
   "cell_type": "code",
   "execution_count": null,
   "id": "d3d9204c-3227-4886-aa4b-329da79e5a45",
   "metadata": {},
   "outputs": [],
   "source": [
    "stops2.head()"
   ]
  },
  {
   "cell_type": "code",
   "execution_count": null,
   "id": "12c877df-d4cb-4b1e-b48e-a593b2fd5037",
   "metadata": {},
   "outputs": [],
   "source": [
    "stops2.shape"
   ]
  },
  {
   "cell_type": "code",
   "execution_count": null,
   "id": "cea86576-02f6-4b60-a0bc-d93b927b6883",
   "metadata": {},
   "outputs": [],
   "source": [
    "stops2 = stops2.head(20).copy()"
   ]
  },
  {
   "cell_type": "code",
   "execution_count": null,
   "id": "75c8d3e2-9ce1-4a68-86a3-6528d15a3378",
   "metadata": {},
   "outputs": [],
   "source": [
    "token = 'uep239-python-spatial-{:04}'.format(random.randint(0,9999))\n",
    "print(token)"
   ]
  },
  {
   "cell_type": "code",
   "execution_count": null,
   "id": "a717a802-271e-4f43-aa7c-c1aecf49ca4e",
   "metadata": {},
   "outputs": [],
   "source": [
    "geolocator = Nominatim(user_agent=token)"
   ]
  },
  {
   "cell_type": "code",
   "execution_count": null,
   "id": "06e5d749-e001-4e01-94f9-beb308695f28",
   "metadata": {},
   "outputs": [],
   "source": [
    "geocode = RateLimiter(geolocator.geocode, min_delay_seconds=1)"
   ]
  },
  {
   "cell_type": "code",
   "execution_count": null,
   "id": "6bae66ea-7303-489b-a6f0-08d4acb32d27",
   "metadata": {},
   "outputs": [],
   "source": [
    "stops2['location'] = stops2.stop_address.apply(geocode)"
   ]
  },
  {
   "cell_type": "code",
   "execution_count": null,
   "id": "39fb5689-3632-4ba6-8544-22c8811fb2d2",
   "metadata": {},
   "outputs": [],
   "source": [
    "stops2.head()"
   ]
  },
  {
   "cell_type": "code",
   "execution_count": null,
   "id": "5aa6d7e2-df40-48bc-9659-1cdb33661e68",
   "metadata": {},
   "outputs": [],
   "source": [
    "stops2['geoloc_y'] = stops2.location.apply(lambda loc: loc.point[0] if loc else None)\n",
    "stops2['geoloc_x'] = stops2.location.apply(lambda loc: loc.point[1] if loc else None)"
   ]
  },
  {
   "cell_type": "code",
   "execution_count": null,
   "id": "a6d0e098-e4ce-4d2f-9c38-efef8b5ecef5",
   "metadata": {},
   "outputs": [],
   "source": [
    "stops2.drop(columns='location', inplace=True)"
   ]
  },
  {
   "cell_type": "code",
   "execution_count": null,
   "id": "d5ed3f13-7f23-4161-8c7d-910accdd8b24",
   "metadata": {},
   "outputs": [],
   "source": [
    "stops2"
   ]
  },
  {
   "cell_type": "markdown",
   "id": "dfe8c993-7506-4999-ba1b-13858103c8c2",
   "metadata": {},
   "source": [
    "---\n",
    "\n",
    "## Exercise"
   ]
  },
  {
   "cell_type": "code",
   "execution_count": null,
   "id": "128eba7f-a94a-4575-9a9e-42ec9d2d7e09",
   "metadata": {},
   "outputs": [],
   "source": [
    "entries = (pd.read_csv('data/mbta-gated-entries-2021.csv')\n",
    "             .groupby('stop_id')\n",
    "             .gated_entries.sum()\n",
    "             .to_frame('total_entries')\n",
    "             .reset_index())"
   ]
  },
  {
   "cell_type": "code",
   "execution_count": null,
   "id": "a15a8526-bbb3-444d-8b92-f498d2343ac6",
   "metadata": {},
   "outputs": [],
   "source": [
    "entries"
   ]
  },
  {
   "cell_type": "code",
   "execution_count": null,
   "id": "7c51bf27-756a-4569-86e4-6199e55f0250",
   "metadata": {},
   "outputs": [],
   "source": []
  }
 ],
 "metadata": {
  "kernelspec": {
   "display_name": "Python 3 (ipykernel)",
   "language": "python",
   "name": "python3"
  },
  "language_info": {
   "codemirror_mode": {
    "name": "ipython",
    "version": 3
   },
   "file_extension": ".py",
   "mimetype": "text/x-python",
   "name": "python",
   "nbconvert_exporter": "python",
   "pygments_lexer": "ipython3"
  }
 },
 "nbformat": 4,
 "nbformat_minor": 5
}
